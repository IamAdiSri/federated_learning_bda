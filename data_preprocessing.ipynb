{
 "cells": [
  {
   "cell_type": "code",
   "execution_count": 12,
   "metadata": {},
   "outputs": [],
   "source": [
    "import os\n",
    "import pandas as pd\n",
    "import numpy as np\n",
    "from sklearn.model_selection import train_test_split\n",
    "\n",
    "total_of = [] # all offensive\n",
    "total_io = [] # all inoffensive"
   ]
  },
  {
   "cell_type": "code",
   "execution_count": 13,
   "metadata": {},
   "outputs": [
    {
     "name": "stdout",
     "output_type": "stream",
     "text": [
      "offensive: 2029, inoffensive: 10068\n",
      "Unique > offensive: 758, inoffensive: 2515\n",
      "Totals > offensive: 758, inoffensive: 2515\n"
     ]
    }
   ],
   "source": [
    "df = pd.read_csv(\"data/convabuse.csv\")\n",
    "\n",
    "of = df[(df[\"is_abuse.-1\"]+df[\"is_abuse.-2\"]+df[\"is_abuse.-3\"])==1]\n",
    "io = df[df[\"is_abuse.1\"]==1]\n",
    "\n",
    "print(f\"offensive: {len(of)}, inoffensive: {len(io)}\")\n",
    "print(f\"Unique > offensive: {len(of.user.unique())}, inoffensive: {len(io.user.unique())}\")\n",
    "\n",
    "# to get cumulative votes (not required)\n",
    "# len(of.groupby([\"user\"])[\"is_abuse.-1\", \"is_abuse.-2\", \"is_abuse.-3\"].apply(lambda x : x.astype(int).sum()))\n",
    "\n",
    "total_of += list(of.user.unique())\n",
    "total_io += list(io.user.unique())\n",
    "\n",
    "print(f\"Totals > offensive: {len(total_of)}, inoffensive: {len(total_io)}\")"
   ]
  },
  {
   "cell_type": "code",
   "execution_count": 14,
   "metadata": {},
   "outputs": [
    {
     "name": "stdout",
     "output_type": "stream",
     "text": [
      "Parsing toxicity_parsed_dataset.csv...\n",
      "offensive: 15362, inoffensive: 144324\n",
      "Unique > offensive: 15348, inoffensive: 144041\n",
      "____\n",
      "Parsing attack_parsed_dataset.csv...\n",
      "offensive: 13590, inoffensive: 102274\n",
      "Unique > offensive: 13576, inoffensive: 102092\n",
      "____\n",
      "Parsing aggression_parsed_dataset.csv...\n",
      "offensive: 14782, inoffensive: 101082\n",
      "Unique > offensive: 14768, inoffensive: 100901\n",
      "____\n",
      "Parsing twitter_parsed_dataset.csv...\n",
      "offensive: 5347, inoffensive: 11501\n",
      "Unique > offensive: 5347, inoffensive: 11501\n",
      "____\n",
      "Parsing twitter_racism_parsed_dataset.csv...\n",
      "offensive: 1970, inoffensive: 11501\n",
      "Unique > offensive: 1970, inoffensive: 11501\n",
      "____\n",
      "Parsing twitter_sexism_parsed_dataset.csv...\n",
      "offensive: 3377, inoffensive: 11501\n",
      "Unique > offensive: 3377, inoffensive: 11501\n",
      "____\n",
      "Parsing youtube_parsed_dataset.csv...\n",
      "offensive: 417, inoffensive: 3047\n",
      "Unique > offensive: 417, inoffensive: 3045\n",
      "____\n",
      "Parsing kaggle_parsed_dataset.csv...\n",
      "offensive: 2806, inoffensive: 5993\n",
      "Unique > offensive: 2778, inoffensive: 5970\n",
      "____\n",
      "57581 390552\n",
      "Totals > offensive: 58339, inoffensive: 393067\n"
     ]
    }
   ],
   "source": [
    "filenames = os.listdir(\"data/cyberbullying dataset/\")\n",
    "sum_of = sum_io = 0\n",
    "for filename in filenames:\n",
    "    print(f\"Parsing {filename}...\")\n",
    "    df = pd.read_csv(f\"data/cyberbullying dataset/{filename}\")\n",
    "    of = df[df.oh_label==1]\n",
    "    io = df[df.oh_label==0]\n",
    "\n",
    "    print(f\"offensive: {len(of)}, inoffensive: {len(io)}\")\n",
    "    print(f\"Unique > offensive: {len(of.Text.unique())}, inoffensive: {len(io.Text.unique())}\")\n",
    "    sum_of += len(of.Text.unique())\n",
    "    sum_io += len(io.Text.unique())\n",
    "\n",
    "    total_of += list(of.Text.unique())\n",
    "    total_io += list(io.Text.unique())\n",
    "    print(\"____\")\n",
    "\n",
    "print(sum_of, sum_io)\n",
    "print(f\"Totals > offensive: {len(total_of)}, inoffensive: {len(total_io)}\")"
   ]
  },
  {
   "cell_type": "code",
   "execution_count": 15,
   "metadata": {},
   "outputs": [
    {
     "name": "stdout",
     "output_type": "stream",
     "text": [
      "offensive: 600, inoffensive: 2400\n",
      "Unique > offensive: 599, inoffensive: 2399\n",
      "Totals > offensive: 58938, inoffensive: 395466\n"
     ]
    }
   ],
   "source": [
    "df = pd.read_csv(\"data/labelled_hate_speech_dataset.csv\")\n",
    "\n",
    "of = df[df.Hateful==1]\n",
    "io = df[df.Hateful==0]\n",
    "\n",
    "print(f\"offensive: {len(of)}, inoffensive: {len(io)}\")\n",
    "print(f\"Unique > offensive: {len(of.Comment.unique())}, inoffensive: {len(io.Comment.unique())}\")\n",
    "\n",
    "total_of += list(of.Comment.unique())\n",
    "total_io += list(io.Comment.unique())\n",
    "\n",
    "print(f\"Totals > offensive: {len(total_of)}, inoffensive: {len(total_io)}\")"
   ]
  },
  {
   "cell_type": "code",
   "execution_count": 16,
   "metadata": {},
   "outputs": [
    {
     "name": "stdout",
     "output_type": "stream",
     "text": [
      "offensive: 20620, inoffensive: 4163\n",
      "Unique > offensive: 20620, inoffensive: 4163\n",
      "Totals > offensive: 79558, inoffensive: 399629\n"
     ]
    }
   ],
   "source": [
    "df = pd.read_csv(\"data/davidson_hate_speech_offensive_lang.csv\")\n",
    "\n",
    "of = df[df[\"class\"] < 2]\n",
    "io = df[df[\"class\"] == 2]\n",
    "\n",
    "print(f\"offensive: {len(of)}, inoffensive: {len(io)}\")\n",
    "print(f\"Unique > offensive: {len(of.tweet.unique())}, inoffensive: {len(io.tweet.unique())}\")\n",
    "\n",
    "total_of += list(of.tweet.unique())\n",
    "total_io += list(io.tweet.unique())\n",
    "\n",
    "print(f\"Totals > offensive: {len(total_of)}, inoffensive: {len(total_io)}\")"
   ]
  },
  {
   "cell_type": "code",
   "execution_count": 6,
   "metadata": {},
   "outputs": [
    {
     "data": {
      "text/plain": [
       "479187"
      ]
     },
     "execution_count": 6,
     "metadata": {},
     "output_type": "execute_result"
    }
   ],
   "source": [
    "len(total_of)+len(total_io)"
   ]
  },
  {
   "cell_type": "code",
   "execution_count": 7,
   "metadata": {},
   "outputs": [
    {
     "name": "stdout",
     "output_type": "stream",
     "text": [
      "Totals > offensive: 49683, inoffensive: 213165\n"
     ]
    }
   ],
   "source": [
    "# removing duplicates from both sets of data\n",
    "total_of = list(set(total_of))\n",
    "total_io = list(set(total_io))\n",
    "\n",
    "print(f\"Totals > offensive: {len(total_of)}, inoffensive: {len(total_io)}\")"
   ]
  },
  {
   "cell_type": "code",
   "execution_count": 9,
   "metadata": {},
   "outputs": [
    {
     "data": {
      "text/html": [
       "<div>\n",
       "<style scoped>\n",
       "    .dataframe tbody tr th:only-of-type {\n",
       "        vertical-align: middle;\n",
       "    }\n",
       "\n",
       "    .dataframe tbody tr th {\n",
       "        vertical-align: top;\n",
       "    }\n",
       "\n",
       "    .dataframe thead th {\n",
       "        text-align: right;\n",
       "    }\n",
       "</style>\n",
       "<table border=\"1\" class=\"dataframe\">\n",
       "  <thead>\n",
       "    <tr style=\"text-align: right;\">\n",
       "      <th></th>\n",
       "      <th>text</th>\n",
       "      <th>objectionable</th>\n",
       "    </tr>\n",
       "  </thead>\n",
       "  <tbody>\n",
       "    <tr>\n",
       "      <th>0</th>\n",
       "      <td>== Sean Kennedy (Author) is back!!!... ==  ....</td>\n",
       "      <td>0</td>\n",
       "    </tr>\n",
       "    <tr>\n",
       "      <th>1</th>\n",
       "      <td>I'm gonna try and totally revamp the page as...</td>\n",
       "      <td>0</td>\n",
       "    </tr>\n",
       "    <tr>\n",
       "      <th>2</th>\n",
       "      <td>`   ,  and others. Listen to me. Right now it ...</td>\n",
       "      <td>0</td>\n",
       "    </tr>\n",
       "    <tr>\n",
       "      <th>3</th>\n",
       "      <td>I will tell you to stop.You think you a famo...</td>\n",
       "      <td>0</td>\n",
       "    </tr>\n",
       "    <tr>\n",
       "      <th>4</th>\n",
       "      <td>:Look at this, everybody is Celtic probably h...</td>\n",
       "      <td>0</td>\n",
       "    </tr>\n",
       "    <tr>\n",
       "      <th>...</th>\n",
       "      <td>...</td>\n",
       "      <td>...</td>\n",
       "    </tr>\n",
       "    <tr>\n",
       "      <th>262843</th>\n",
       "      <td>, after I let him suck my boobs,</td>\n",
       "      <td>1</td>\n",
       "    </tr>\n",
       "    <tr>\n",
       "      <th>262844</th>\n",
       "      <td>Horny cougar gets two cocks shoved in her&amp;#160...</td>\n",
       "      <td>1</td>\n",
       "    </tr>\n",
       "    <tr>\n",
       "      <th>262845</th>\n",
       "      <td>`  ==  is a scientifically proven epitome of a...</td>\n",
       "      <td>1</td>\n",
       "    </tr>\n",
       "    <tr>\n",
       "      <th>262846</th>\n",
       "      <td>Idgaf what anyone say. GAMBLING IS STUPID. lik...</td>\n",
       "      <td>1</td>\n",
       "    </tr>\n",
       "    <tr>\n",
       "      <th>262847</th>\n",
       "      <td>user:Precious Roy, stop posting on my talk pag...</td>\n",
       "      <td>1</td>\n",
       "    </tr>\n",
       "  </tbody>\n",
       "</table>\n",
       "<p>262848 rows × 2 columns</p>\n",
       "</div>"
      ],
      "text/plain": [
       "                                                     text  objectionable\n",
       "0         == Sean Kennedy (Author) is back!!!... ==  ....              0\n",
       "1         I'm gonna try and totally revamp the page as...              0\n",
       "2       `   ,  and others. Listen to me. Right now it ...              0\n",
       "3         I will tell you to stop.You think you a famo...              0\n",
       "4        :Look at this, everybody is Celtic probably h...              0\n",
       "...                                                   ...            ...\n",
       "262843                   , after I let him suck my boobs,              1\n",
       "262844  Horny cougar gets two cocks shoved in her&#160...              1\n",
       "262845  `  ==  is a scientifically proven epitome of a...              1\n",
       "262846  Idgaf what anyone say. GAMBLING IS STUPID. lik...              1\n",
       "262847  user:Precious Roy, stop posting on my talk pag...              1\n",
       "\n",
       "[262848 rows x 2 columns]"
      ]
     },
     "execution_count": 9,
     "metadata": {},
     "output_type": "execute_result"
    }
   ],
   "source": [
    "data = pd.DataFrame({\n",
    "    \"text\": total_io+total_of,\n",
    "    \"objectionable\": [0]*len(total_io)+[1]*len(total_of)\n",
    "})\n",
    "\n",
    "data"
   ]
  },
  {
   "cell_type": "code",
   "execution_count": 10,
   "metadata": {},
   "outputs": [
    {
     "name": "stdout",
     "output_type": "stream",
     "text": [
      "183993 39427 39428\n"
     ]
    }
   ],
   "source": [
    "# making stratified\n",
    "# train-validation-test splits\n",
    "# in the ration 70:15:15\n",
    "\n",
    "X_train, X_val, y_train, y_val = train_test_split(data.text, data.objectionable, test_size=0.30, random_state=42, stratify=data.objectionable)\n",
    "X_val, X_test, y_val, y_test = train_test_split(X_val, y_val, test_size=0.50, random_state=42, stratify=y_val)\n",
    "\n",
    "print(len(X_train), len(X_val), len(X_test))"
   ]
  },
  {
   "cell_type": "code",
   "execution_count": 11,
   "metadata": {},
   "outputs": [
    {
     "data": {
      "text/plain": [
       "(0.18901806046969177, 0.18900753290892028, 0.18902810185654864)"
      ]
     },
     "execution_count": 11,
     "metadata": {},
     "output_type": "execute_result"
    }
   ],
   "source": [
    "sum(y_train)/len(y_train), sum(y_val)/len(y_val), sum(y_test)/len(y_test)"
   ]
  },
  {
   "cell_type": "code",
   "execution_count": null,
   "metadata": {},
   "outputs": [],
   "source": [
    "pd.DataFrame(list(zip(X_train, y_train)), columns=[\"text\", \"objectionable\"]).to_csv(\"splits/train.csv\", index=False)\n",
    "pd.DataFrame(list(zip(X_val, y_val)), columns=[\"text\", \"objectionable\"]).to_csv(\"splits/val.csv\", index=False)\n",
    "pd.DataFrame(list(zip(X_test, y_test)), columns=[\"text\", \"objectionable\"]).to_csv(\"splits/test.csv\", index=False)"
   ]
  },
  {
   "cell_type": "code",
   "execution_count": null,
   "metadata": {},
   "outputs": [],
   "source": []
  }
 ],
 "metadata": {
  "kernelspec": {
   "display_name": "v39",
   "language": "python",
   "name": "python3"
  },
  "language_info": {
   "codemirror_mode": {
    "name": "ipython",
    "version": 3
   },
   "file_extension": ".py",
   "mimetype": "text/x-python",
   "name": "python",
   "nbconvert_exporter": "python",
   "pygments_lexer": "ipython3",
   "version": "3.9.7"
  },
  "orig_nbformat": 4
 },
 "nbformat": 4,
 "nbformat_minor": 2
}
